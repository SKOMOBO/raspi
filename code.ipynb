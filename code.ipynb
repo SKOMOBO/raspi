{
 "cells": [
  {
   "cell_type": "markdown",
   "metadata": {},
   "source": [
    "# TCP comms"
   ]
  },
  {
   "cell_type": "code",
   "execution_count": 1,
   "metadata": {
    "collapsed": true
   },
   "outputs": [],
   "source": [
    "import socket"
   ]
  },
  {
   "cell_type": "code",
   "execution_count": 3,
   "metadata": {
    "collapsed": false
   },
   "outputs": [],
   "source": [
    "TCP_IP = '10.101.241.28'\n",
    "TCP_PORT = 5005\n",
    "BUFFER_SIZE = 1024\n",
    "MESSAGE = \"Hello, World!\"\n",
    "\n",
    "s = socket.socket(socket.AF_INET, socket.SOCK_STREAM)\n",
    "s.connect((TCP_IP, TCP_PORT))\n",
    "s.send(MESSAGE)\n",
    "data = s.recv(BUFFER_SIZE)\n",
    "s.close()"
   ]
  },
  {
   "cell_type": "markdown",
   "metadata": {},
   "source": [
    "# HEX converter"
   ]
  },
  {
   "cell_type": "code",
   "execution_count": 10,
   "metadata": {
    "collapsed": true
   },
   "outputs": [],
   "source": [
    "def pretty_hex(num):\n",
    "    return hex(num)[2:-1]"
   ]
  },
  {
   "cell_type": "markdown",
   "metadata": {},
   "source": [
    "# DB meter"
   ]
  },
  {
   "cell_type": "code",
   "execution_count": 4,
   "metadata": {
    "collapsed": false
   },
   "outputs": [
    {
     "ename": "AttributeError",
     "evalue": "'module' object has no attribute 'PyAudio'",
     "output_type": "error",
     "traceback": [
      "\u001b[0;31m---------------------------------------------------------------------------\u001b[0m",
      "\u001b[0;31mAttributeError\u001b[0m                            Traceback (most recent call last)",
      "\u001b[0;32m<ipython-input-4-149423b289ea>\u001b[0m in \u001b[0;36m<module>\u001b[0;34m()\u001b[0m\n\u001b[0;32m----> 1\u001b[0;31m \u001b[1;32mimport\u001b[0m \u001b[0mpyaudio\u001b[0m\u001b[1;33m\u001b[0m\u001b[0m\n\u001b[0m\u001b[1;32m      2\u001b[0m \u001b[1;32mimport\u001b[0m \u001b[0mnumpy\u001b[0m \u001b[1;32mas\u001b[0m \u001b[0mnp\u001b[0m\u001b[1;33m\u001b[0m\u001b[0m\n\u001b[1;32m      3\u001b[0m \u001b[1;32mimport\u001b[0m \u001b[0maudioop\u001b[0m\u001b[1;33m\u001b[0m\u001b[0m\n\u001b[1;32m      4\u001b[0m \u001b[1;32mimport\u001b[0m \u001b[0mpandas\u001b[0m \u001b[1;32mas\u001b[0m \u001b[0mpd\u001b[0m\u001b[1;33m\u001b[0m\u001b[0m\n\u001b[1;32m      5\u001b[0m \u001b[1;33m\u001b[0m\u001b[0m\n",
      "\u001b[0;32mC:\\Users\\Ryan\\Source\\Repos\\skomobo\\raspi\\pyaudio.pyc\u001b[0m in \u001b[0;36m<module>\u001b[0;34m()\u001b[0m\n\u001b[1;32m      1\u001b[0m \u001b[1;32mimport\u001b[0m \u001b[0mpyaudio\u001b[0m\u001b[1;33m\u001b[0m\u001b[0m\n\u001b[1;32m      2\u001b[0m \u001b[1;33m\u001b[0m\u001b[0m\n\u001b[0;32m----> 3\u001b[0;31m \u001b[0mp\u001b[0m \u001b[1;33m=\u001b[0m \u001b[0mpyaudio\u001b[0m\u001b[1;33m.\u001b[0m\u001b[0mPyAudio\u001b[0m\u001b[1;33m(\u001b[0m\u001b[1;33m)\u001b[0m\u001b[1;33m\u001b[0m\u001b[0m\n\u001b[0m",
      "\u001b[0;31mAttributeError\u001b[0m: 'module' object has no attribute 'PyAudio'"
     ]
    }
   ],
   "source": [
    "import pyaudio\n",
    "import numpy as np\n",
    "import audioop\n",
    "import pandas as pd\n",
    "\n",
    "CHUNK = 4096 # number of data points to read at a time\n",
    "RATE = 44100 # time resolution of the recording device (Hz)\n"
   ]
  },
  {
   "cell_type": "code",
   "execution_count": 11,
   "metadata": {
    "collapsed": false
   },
   "outputs": [
    {
     "name": "stdout",
     "output_type": "stream",
     "text": [
      "4f\n",
      "4f\n",
      "4f\n",
      "4e\n",
      "4f\n",
      "4f\n",
      "4e\n",
      "4f\n",
      "4e\n",
      "4f\n",
      "4e\n",
      "4f\n",
      "4e\n",
      "4f\n",
      "4f\n",
      "4e\n",
      "4e\n",
      "4f\n",
      "4e\n",
      "4e\n",
      "4f\n",
      "4e\n",
      "4f\n",
      "4e\n",
      "4f\n",
      "4e\n",
      "4e\n",
      "4e\n",
      "4e\n",
      "4f\n",
      "4e\n",
      "4e\n",
      "4f\n",
      "4e\n",
      "4f\n",
      "4f\n",
      "4e\n",
      "4e\n",
      "4f\n",
      "4e\n",
      "4e\n",
      "4f\n",
      "4e\n",
      "4f\n",
      "4e\n",
      "4f\n",
      "4f\n",
      "4e\n",
      "4e\n",
      "4f\n",
      "4f\n",
      "4e\n",
      "4e\n",
      "4e\n",
      "4f\n",
      "4e\n",
      "4f\n",
      "4e\n",
      "4e\n",
      "4e\n",
      "4f\n",
      "4f\n",
      "4e\n",
      "4f\n",
      "4f\n",
      "4e\n",
      "4f\n",
      "4f\n",
      "4e\n",
      "4e\n",
      "4e\n",
      "4f\n",
      "4e\n",
      "4f\n",
      "4e\n",
      "4e\n",
      "4e\n",
      "4f\n",
      "4f\n",
      "4e\n",
      "4f\n",
      "4f\n",
      "4e\n",
      "4f\n",
      "4f\n",
      "4f\n",
      "4e\n",
      "4f\n",
      "4e\n",
      "4e\n",
      "4f\n",
      "4e\n",
      "4f\n",
      "4e\n",
      "4e\n",
      "4f\n",
      "4e\n",
      "4f\n",
      "4f\n",
      "4f\n"
     ]
    }
   ],
   "source": [
    "\n",
    "p=pyaudio.PyAudio() # start the PyAudio class\n",
    "stream=p.open(format=pyaudio.paInt16,channels=2,rate=RATE,input=True,\n",
    "              frames_per_buffer=CHUNK, input_device_index = 1) #uses default input device\n",
    "\n",
    "# generate RMS for the 10 samples\n",
    "\n",
    "# for proper val compared to background noise need to get samples from mic2 and divide by it\n",
    "\n",
    "\n",
    "DB = []\n",
    "\n",
    "for i in range(10):\n",
    "    \n",
    "    data = []\n",
    "    for i in range(10): #to it a few times just to see\n",
    "        data = np.fromstring(stream.read(CHUNK),dtype=np.int16).astype(np.float)\n",
    "    \n",
    "        \n",
    "        data[data <= 0.0000000001] = 0\n",
    "\n",
    "    # the rms gives us the power from the amplitude\n",
    "        \n",
    "        db = 20 * np.log10(audioop.rms(data, 2))\n",
    "        DB.append(db)\n",
    "        print pretty_hex(db)\n",
    "    \n",
    "        # convert to amplitude\n",
    "#         data = np.divide(data, float(32767))\n",
    "        \n",
    "        \n",
    "        # issue we are taking the log 10 of numbers this small makes numpy throw error\n",
    "        \n",
    "#         mic1 = data.mean()\n",
    "        \n",
    "#         db.append( 20 * np.log10(mic1))\n",
    "            \n",
    "\n",
    "pd.DataFrame(data).plot(title = \"Raw data\")\n",
    "pd.DataFrame(DB).plot(title = \"Decibels 0 = quiet > 80 = factory level noise\")\n",
    "stream.stop_stream()\n",
    "stream.close()\n",
    "p.terminate()"
   ]
  },
  {
   "cell_type": "markdown",
   "metadata": {},
   "source": [
    "# putting everything together"
   ]
  },
  {
   "cell_type": "code",
   "execution_count": 33,
   "metadata": {
    "collapsed": false
   },
   "outputs": [],
   "source": [
    "import pyaudio\n",
    "import numpy as np\n",
    "import audioop\n",
    "import pandas as pd\n",
    "\n",
    "CHUNK = 4096 # number of data points to read at a time\n",
    "RATE = 44100 # time resolution of the recording device (Hz)\n",
    "\n",
    "import socket\n",
    "\n",
    "def pretty_hex(num):\n",
    "    hex_num = hex(num)[2:]\n",
    "    \n",
    "    if hex_num[-1] == 'L': hex_num = hex_num[:-1]\n",
    "    return hex_num\n",
    "    \n",
    "    \n",
    "def encode(ID, time_sent, DB, Distances):\n",
    "    \n",
    "    data = [ID, time_sent, DB] + Distances\n",
    "    return '_'.join(data)\n",
    "\n",
    "import time\n",
    "import errno\n",
    "\n",
    "def transmit(data):\n",
    "    try:\n",
    "        s = socket.socket(socket.AF_INET, socket.SOCK_STREAM)\n",
    "        s.connect(('127.0.0.1', 81))\n",
    "        s.send(data)\n",
    "    \n",
    "        while(s.recv(2048) != \"ack\"):\n",
    "\n",
    "            print \"waiting for acknowledgment\"\n",
    "    \n",
    "    except socket.error as error:\n",
    "#         print error.errno\n",
    "        print \"tcp error\"\n",
    "        if error.errno == errno.WSAECONNRESET:\n",
    "            \n",
    "#         reconnect()\n",
    "#         retry_action()\n",
    "            print \"not connected to server\"\n",
    "    \n",
    "    finally:\n",
    "#     else:\n",
    "#         raise\n",
    "        s.close()\n",
    "    \n",
    "def record_db():\n",
    "    p=pyaudio.PyAudio() # start the PyAudio class\n",
    "    stream=p.open(format=pyaudio.paInt16,channels=2,rate=RATE,input=True,\n",
    "              frames_per_buffer=CHUNK, input_device_index = 1) #uses default input device\n",
    "\n",
    "    data = np.fromstring(stream.read(CHUNK),dtype=np.int16).astype(np.float)\n",
    "\n",
    "    # omit outliers\n",
    "    data[data <= 0.0000000001] = 0\n",
    "\n",
    "    \n",
    "    # the rms gives us the power from the amplitude?\n",
    "    # for proper val compared to background noise need to get samples from mic2 and divide by it\n",
    "\n",
    "    db = 20 * np.log10(audioop.rms(data, 2))\n",
    "#     DB.append(db)\n",
    "   \n",
    "    stream.stop_stream()\n",
    "    stream.close()\n",
    "    p.terminate()\n",
    "    return db\n",
    "\n",
    "def get_Box_ID():\n",
    "    f = open(\"Box_ID.txt\", 'r')\n",
    "    return f.read()"
   ]
  },
  {
   "cell_type": "code",
   "execution_count": 7,
   "metadata": {
    "collapsed": true
   },
   "outputs": [],
   "source": [
    "## just in case Im stuck with HTTP\n",
    "import urllib2\n",
    "def http_transmit(data):\n",
    "    urllib2.urlopen(\"http://seat-skomobo.massey.ac.nz/\" + data)"
   ]
  },
  {
   "cell_type": "code",
   "execution_count": 42,
   "metadata": {
    "collapsed": false
   },
   "outputs": [
    {
     "name": "stdout",
     "output_type": "stream",
     "text": [
      "waiting for acknowledgment\n",
      "1_2016-6-23_4e_29_17_c_14_1_31_64\n"
     ]
    }
   ],
   "source": [
    "ID = pretty_hex(int(get_Box_ID()))\n",
    "db = pretty_hex(record_db())\n",
    "distances = map(pretty_hex, [41, 23, 12, 20, 1, 49, 100])\n",
    "packet = encode(ID, \"2016-6-23\", db, distances)\n",
    "transmit(packet)\n",
    "print packet"
   ]
  }
 ],
 "metadata": {
  "kernelspec": {
   "display_name": "Python 2",
   "language": "python",
   "name": "python2"
  },
  "language_info": {
   "codemirror_mode": {
    "name": "ipython",
    "version": 2
   },
   "file_extension": ".py",
   "mimetype": "text/x-python",
   "name": "python",
   "nbconvert_exporter": "python",
   "pygments_lexer": "ipython2",
   "version": "2.7.13"
  }
 },
 "nbformat": 4,
 "nbformat_minor": 2
}
