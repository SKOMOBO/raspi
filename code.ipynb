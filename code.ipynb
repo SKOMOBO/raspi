{
 "cells": [
  {
   "cell_type": "code",
   "execution_count": 1,
   "metadata": {
    "collapsed": true
   },
   "outputs": [],
   "source": [
    "import pyaudio"
   ]
  },
  {
   "cell_type": "code",
   "execution_count": 2,
   "metadata": {
    "collapsed": true
   },
   "outputs": [],
   "source": [
    "p = pyaudio.PyAudio()"
   ]
  },
  {
   "cell_type": "code",
   "execution_count": 3,
   "metadata": {
    "collapsed": true
   },
   "outputs": [],
   "source": [
    "def callback(in_data, frame_count, time_info, flag):\n",
    "    if flag:\n",
    "        print(\"Playback error: %i\" % flag)"
   ]
  },
  {
   "cell_type": "code",
   "execution_count": 4,
   "metadata": {
    "collapsed": false
   },
   "outputs": [],
   "source": [
    "stream = p.open(format = pyaudio.paFloat32, channels = 1, rate=44100, stream_callback = callback, output=True, \n",
    "                frames_per_buffer = 1024 )"
   ]
  },
  {
   "cell_type": "code",
   "execution_count": 7,
   "metadata": {
    "collapsed": false
   },
   "outputs": [
    {
     "name": "stderr",
     "output_type": "stream",
     "text": [
      "C:\\Users\\Ryan\\Anaconda2\\lib\\site-packages\\ipykernel\\__main__.py:14: RuntimeWarning: divide by zero encountered in log10\n",
      "C:\\Users\\Ryan\\Anaconda2\\lib\\site-packages\\ipykernel\\__main__.py:14: RuntimeWarning: invalid value encountered in log10\n"
     ]
    },
    {
     "name": "stdout",
     "output_type": "stream",
     "text": [
      "[ 409  362  249 ..., 1824 1940 1904]\n",
      "[1958 1985 1919 ...,  441  515  654]\n",
      "[683 707 808 ..., 728 873 875]\n",
      "[ 919  789  896 ..., -860 -856 -790]\n",
      "[-898 -929 -965 ...,  244  241  318]\n",
      "[325 339 324 ..., -27  37 -11]\n",
      "[  -2  -21  -71 ..., -243 -203 -274]\n",
      "[-203 -260 -224 ...,  197  121  202]\n",
      "[ 166  254  234 ..., -384 -445 -403]\n",
      "[-398 -410 -400 ..., 1341 1294 1405]\n"
     ]
    }
   ],
   "source": [
    "import pyaudio\n",
    "import numpy as np\n",
    "\n",
    "CHUNK = 4096 # number of data points to read at a time\n",
    "RATE = 44100 # time resolution of the recording device (Hz)\n",
    "\n",
    "p=pyaudio.PyAudio() # start the PyAudio class\n",
    "stream=p.open(format=pyaudio.paInt16,channels=1,rate=RATE,input=True,\n",
    "              frames_per_buffer=CHUNK) #uses default input device\n",
    "\n",
    "# create a numpy array holding a single read of audio data\n",
    "for i in range(10): #to it a few times just to see\n",
    "    data = np.fromstring(stream.read(CHUNK),dtype=np.int16)\n",
    "    dB = 20 * np.log10(data)\n",
    "    print(data)\n",
    "    \n",
    "# close the stream gracefully\n",
    "stream.stop_stream()\n",
    "stream.close()\n",
    "p.terminate()"
   ]
  },
  {
   "cell_type": "markdown",
   "metadata": {},
   "source": [
    "RMS version still need to somehow get comparison against background noise too"
   ]
  },
  {
   "cell_type": "code",
   "execution_count": 22,
   "metadata": {
    "collapsed": false
   },
   "outputs": [
    {
     "ename": "ValueError",
     "evalue": "Length of values does not match length of index",
     "output_type": "error",
     "traceback": [
      "\u001b[0;31m---------------------------------------------------------------------------\u001b[0m",
      "\u001b[0;31mValueError\u001b[0m                                Traceback (most recent call last)",
      "\u001b[0;32m<ipython-input-22-625305700253>\u001b[0m in \u001b[0;36m<module>\u001b[0;34m()\u001b[0m\n\u001b[1;32m     28\u001b[0m     \u001b[1;31m# the rms gives us the power from the amplitude\u001b[0m\u001b[1;33m\u001b[0m\u001b[1;33m\u001b[0m\u001b[0m\n\u001b[1;32m     29\u001b[0m     \u001b[0mdb\u001b[0m\u001b[1;33m.\u001b[0m\u001b[0mappend\u001b[0m\u001b[1;33m(\u001b[0m\u001b[1;36m20\u001b[0m \u001b[1;33m*\u001b[0m \u001b[0mnp\u001b[0m\u001b[1;33m.\u001b[0m\u001b[0mlog10\u001b[0m\u001b[1;33m(\u001b[0m\u001b[0maudioop\u001b[0m\u001b[1;33m.\u001b[0m\u001b[0mrms\u001b[0m\u001b[1;33m(\u001b[0m\u001b[0mdata\u001b[0m\u001b[1;33m,\u001b[0m \u001b[1;36m2\u001b[0m\u001b[1;33m)\u001b[0m\u001b[1;33m)\u001b[0m\u001b[1;33m)\u001b[0m\u001b[1;33m\u001b[0m\u001b[0m\n\u001b[0;32m---> 30\u001b[0;31m     \u001b[0mDB\u001b[0m\u001b[1;33m[\u001b[0m\u001b[1;34m'db'\u001b[0m\u001b[1;33m]\u001b[0m \u001b[1;33m=\u001b[0m \u001b[0mdb\u001b[0m\u001b[1;33m\u001b[0m\u001b[0m\n\u001b[0m\u001b[1;32m     31\u001b[0m     \u001b[0mDB\u001b[0m\u001b[1;33m.\u001b[0m\u001b[0mplot\u001b[0m\u001b[1;33m(\u001b[0m\u001b[1;33m)\u001b[0m\u001b[1;33m\u001b[0m\u001b[0m\n\u001b[1;32m     32\u001b[0m \u001b[1;33m\u001b[0m\u001b[0m\n",
      "\u001b[0;32mC:\\Users\\Ryan\\Anaconda2\\lib\\site-packages\\pandas\\core\\frame.pyc\u001b[0m in \u001b[0;36m__setitem__\u001b[0;34m(self, key, value)\u001b[0m\n\u001b[1;32m   2417\u001b[0m         \u001b[1;32melse\u001b[0m\u001b[1;33m:\u001b[0m\u001b[1;33m\u001b[0m\u001b[0m\n\u001b[1;32m   2418\u001b[0m             \u001b[1;31m# set column\u001b[0m\u001b[1;33m\u001b[0m\u001b[1;33m\u001b[0m\u001b[0m\n\u001b[0;32m-> 2419\u001b[0;31m             \u001b[0mself\u001b[0m\u001b[1;33m.\u001b[0m\u001b[0m_set_item\u001b[0m\u001b[1;33m(\u001b[0m\u001b[0mkey\u001b[0m\u001b[1;33m,\u001b[0m \u001b[0mvalue\u001b[0m\u001b[1;33m)\u001b[0m\u001b[1;33m\u001b[0m\u001b[0m\n\u001b[0m\u001b[1;32m   2420\u001b[0m \u001b[1;33m\u001b[0m\u001b[0m\n\u001b[1;32m   2421\u001b[0m     \u001b[1;32mdef\u001b[0m \u001b[0m_setitem_slice\u001b[0m\u001b[1;33m(\u001b[0m\u001b[0mself\u001b[0m\u001b[1;33m,\u001b[0m \u001b[0mkey\u001b[0m\u001b[1;33m,\u001b[0m \u001b[0mvalue\u001b[0m\u001b[1;33m)\u001b[0m\u001b[1;33m:\u001b[0m\u001b[1;33m\u001b[0m\u001b[0m\n",
      "\u001b[0;32mC:\\Users\\Ryan\\Anaconda2\\lib\\site-packages\\pandas\\core\\frame.pyc\u001b[0m in \u001b[0;36m_set_item\u001b[0;34m(self, key, value)\u001b[0m\n\u001b[1;32m   2483\u001b[0m \u001b[1;33m\u001b[0m\u001b[0m\n\u001b[1;32m   2484\u001b[0m         \u001b[0mself\u001b[0m\u001b[1;33m.\u001b[0m\u001b[0m_ensure_valid_index\u001b[0m\u001b[1;33m(\u001b[0m\u001b[0mvalue\u001b[0m\u001b[1;33m)\u001b[0m\u001b[1;33m\u001b[0m\u001b[0m\n\u001b[0;32m-> 2485\u001b[0;31m         \u001b[0mvalue\u001b[0m \u001b[1;33m=\u001b[0m \u001b[0mself\u001b[0m\u001b[1;33m.\u001b[0m\u001b[0m_sanitize_column\u001b[0m\u001b[1;33m(\u001b[0m\u001b[0mkey\u001b[0m\u001b[1;33m,\u001b[0m \u001b[0mvalue\u001b[0m\u001b[1;33m)\u001b[0m\u001b[1;33m\u001b[0m\u001b[0m\n\u001b[0m\u001b[1;32m   2486\u001b[0m         \u001b[0mNDFrame\u001b[0m\u001b[1;33m.\u001b[0m\u001b[0m_set_item\u001b[0m\u001b[1;33m(\u001b[0m\u001b[0mself\u001b[0m\u001b[1;33m,\u001b[0m \u001b[0mkey\u001b[0m\u001b[1;33m,\u001b[0m \u001b[0mvalue\u001b[0m\u001b[1;33m)\u001b[0m\u001b[1;33m\u001b[0m\u001b[0m\n\u001b[1;32m   2487\u001b[0m \u001b[1;33m\u001b[0m\u001b[0m\n",
      "\u001b[0;32mC:\\Users\\Ryan\\Anaconda2\\lib\\site-packages\\pandas\\core\\frame.pyc\u001b[0m in \u001b[0;36m_sanitize_column\u001b[0;34m(self, key, value, broadcast)\u001b[0m\n\u001b[1;32m   2654\u001b[0m \u001b[1;33m\u001b[0m\u001b[0m\n\u001b[1;32m   2655\u001b[0m             \u001b[1;31m# turn me into an ndarray\u001b[0m\u001b[1;33m\u001b[0m\u001b[1;33m\u001b[0m\u001b[0m\n\u001b[0;32m-> 2656\u001b[0;31m             \u001b[0mvalue\u001b[0m \u001b[1;33m=\u001b[0m \u001b[0m_sanitize_index\u001b[0m\u001b[1;33m(\u001b[0m\u001b[0mvalue\u001b[0m\u001b[1;33m,\u001b[0m \u001b[0mself\u001b[0m\u001b[1;33m.\u001b[0m\u001b[0mindex\u001b[0m\u001b[1;33m,\u001b[0m \u001b[0mcopy\u001b[0m\u001b[1;33m=\u001b[0m\u001b[0mFalse\u001b[0m\u001b[1;33m)\u001b[0m\u001b[1;33m\u001b[0m\u001b[0m\n\u001b[0m\u001b[1;32m   2657\u001b[0m             \u001b[1;32mif\u001b[0m \u001b[1;32mnot\u001b[0m \u001b[0misinstance\u001b[0m\u001b[1;33m(\u001b[0m\u001b[0mvalue\u001b[0m\u001b[1;33m,\u001b[0m \u001b[1;33m(\u001b[0m\u001b[0mnp\u001b[0m\u001b[1;33m.\u001b[0m\u001b[0mndarray\u001b[0m\u001b[1;33m,\u001b[0m \u001b[0mIndex\u001b[0m\u001b[1;33m)\u001b[0m\u001b[1;33m)\u001b[0m\u001b[1;33m:\u001b[0m\u001b[1;33m\u001b[0m\u001b[0m\n\u001b[1;32m   2658\u001b[0m                 \u001b[1;32mif\u001b[0m \u001b[0misinstance\u001b[0m\u001b[1;33m(\u001b[0m\u001b[0mvalue\u001b[0m\u001b[1;33m,\u001b[0m \u001b[0mlist\u001b[0m\u001b[1;33m)\u001b[0m \u001b[1;32mand\u001b[0m \u001b[0mlen\u001b[0m\u001b[1;33m(\u001b[0m\u001b[0mvalue\u001b[0m\u001b[1;33m)\u001b[0m \u001b[1;33m>\u001b[0m \u001b[1;36m0\u001b[0m\u001b[1;33m:\u001b[0m\u001b[1;33m\u001b[0m\u001b[0m\n",
      "\u001b[0;32mC:\\Users\\Ryan\\Anaconda2\\lib\\site-packages\\pandas\\core\\series.pyc\u001b[0m in \u001b[0;36m_sanitize_index\u001b[0;34m(data, index, copy)\u001b[0m\n\u001b[1;32m   2798\u001b[0m \u001b[1;33m\u001b[0m\u001b[0m\n\u001b[1;32m   2799\u001b[0m     \u001b[1;32mif\u001b[0m \u001b[0mlen\u001b[0m\u001b[1;33m(\u001b[0m\u001b[0mdata\u001b[0m\u001b[1;33m)\u001b[0m \u001b[1;33m!=\u001b[0m \u001b[0mlen\u001b[0m\u001b[1;33m(\u001b[0m\u001b[0mindex\u001b[0m\u001b[1;33m)\u001b[0m\u001b[1;33m:\u001b[0m\u001b[1;33m\u001b[0m\u001b[0m\n\u001b[0;32m-> 2800\u001b[0;31m         \u001b[1;32mraise\u001b[0m \u001b[0mValueError\u001b[0m\u001b[1;33m(\u001b[0m\u001b[1;34m'Length of values does not match length of '\u001b[0m \u001b[1;34m'index'\u001b[0m\u001b[1;33m)\u001b[0m\u001b[1;33m\u001b[0m\u001b[0m\n\u001b[0m\u001b[1;32m   2801\u001b[0m \u001b[1;33m\u001b[0m\u001b[0m\n\u001b[1;32m   2802\u001b[0m     \u001b[1;32mif\u001b[0m \u001b[0misinstance\u001b[0m\u001b[1;33m(\u001b[0m\u001b[0mdata\u001b[0m\u001b[1;33m,\u001b[0m \u001b[0mPeriodIndex\u001b[0m\u001b[1;33m)\u001b[0m\u001b[1;33m:\u001b[0m\u001b[1;33m\u001b[0m\u001b[0m\n",
      "\u001b[0;31mValueError\u001b[0m: Length of values does not match length of index"
     ]
    },
    {
     "data": {
      "image/png": "[encoded data removed]",
      "text/plain": [
       "<matplotlib.figure.Figure at 0xb62f908>"
      ]
     },
     "metadata": {},
     "output_type": "display_data"
    }
   ],
   "source": [
    "import pyaudio\n",
    "import numpy as np\n",
    "import audioop\n",
    "import pandas as pd\n",
    "\n",
    "CHUNK = 4096 # number of data points to read at a time\n",
    "RATE = 44100 # time resolution of the recording device (Hz)\n",
    "\n",
    "p=pyaudio.PyAudio() # start the PyAudio class\n",
    "stream=p.open(format=pyaudio.paInt16,channels=1,rate=RATE,input=True,\n",
    "              frames_per_buffer=CHUNK, input_device_index = 1) #uses default input device\n",
    "\n",
    "# create a numpy array holding a single read of audio data\n",
    "#     print(data)\n",
    "\n",
    "\n",
    "# generate RMS for the 10 samples\n",
    "\n",
    "# for proper val compared to background noise need to get samples from mic2 and divide by it\n",
    "\n",
    "# try and git \n",
    "db = []\n",
    "DB = pd.DataFrame(columns = ['db'])\n",
    "for i in range(10000000):\n",
    "    for i in range(10): #to it a few times just to see\n",
    "        data = np.fromstring(stream.read(CHUNK),dtype=np.int16).astype(np.float)\n",
    "    \n",
    "    # the rms gives us the power from the amplitude\n",
    "    db.append(20 * np.log10(audioop.rms(data, 2)))\n",
    "    DB['db'] = db\n",
    "    DB.plot()\n",
    "\n",
    "# close the stream gracefully\n",
    "stream.stop_stream()\n",
    "stream.close()\n",
    "p.terminate()"
   ]
  },
  {
   "cell_type": "code",
   "execution_count": 21,
   "metadata": {
    "collapsed": false
   },
   "outputs": [
    {
     "data": {
      "text/plain": [
       "<matplotlib.axes._subplots.AxesSubplot at 0xb47cf28>"
      ]
     },
     "execution_count": 21,
     "metadata": {},
     "output_type": "execute_result"
    },
    {
     "data": {
      "image/png": "[encoded data removed]",
      "text/plain": [
       "<matplotlib.figure.Figure at 0xb285dd8>"
      ]
     },
     "metadata": {},
     "output_type": "display_data"
    }
   ],
   "source": [
    "DB.plot()"
   ]
  },
  {
   "cell_type": "code",
   "execution_count": 16,
   "metadata": {
    "collapsed": false
   },
   "outputs": [
    {
     "name": "stdout",
     "output_type": "stream",
     "text": [
      "Input Device id  0  -  Microsoft Sound Mapper - Input\n",
      "Input Device id  1  -  Microphone (2- High Definition \n",
      "Output Device id  2  -  Microsoft Sound Mapper - Output\n",
      "Output Device id  3  -  Speakers (2- High Definition Au\n",
      "Selected device is  Microphone (2- High Definition \n",
      "Yay!\n"
     ]
    }
   ],
   "source": [
    "import pyaudio\n",
    "\n",
    "p = pyaudio.PyAudio()\n",
    "info = p.get_host_api_info_by_index(0)\n",
    "numdevices = info.get('deviceCount')\n",
    "#for each audio device, determine if is an input or an output and add it to the appropriate list and dictionary\n",
    "for i in range (0,numdevices):\n",
    "        if p.get_device_info_by_host_api_device_index(0,i).get('maxInputChannels')>0:\n",
    "                print \"Input Device id \", i, \" - \", p.get_device_info_by_host_api_device_index(0,i).get('name')\n",
    "\n",
    "        if p.get_device_info_by_host_api_device_index(0,i).get('maxOutputChannels')>0:\n",
    "                print \"Output Device id \", i, \" - \", p.get_device_info_by_host_api_device_index(0,i).get('name')\n",
    "\n",
    "devinfo = p.get_device_info_by_index(1)\n",
    "print \"Selected device is \",devinfo.get('name')\n",
    "if p.is_format_supported(44100.0,  # Sample rate\n",
    "                         input_device=devinfo[\"index\"],\n",
    "                         input_channels=devinfo['maxInputChannels'],\n",
    "                         input_format=pyaudio.paInt16):\n",
    "  print 'Yay!'\n",
    "p.terminate()"
   ]
  },
  {
   "cell_type": "code",
   "execution_count": 20,
   "metadata": {
    "collapsed": false
   },
   "outputs": [],
   "source": [
    "import pandas as pd\n",
    "\n",
    "%matplotlib inline"
   ]
  },
  {
   "cell_type": "markdown",
   "metadata": {},
   "source": [
    "http://www.swharden.com/wp/2016-07-19-realtime-audio-visualization-in-python/"
   ]
  },
  {
   "cell_type": "code",
   "execution_count": 12,
   "metadata": {
    "collapsed": false
   },
   "outputs": [
    {
     "name": "stdout",
     "output_type": "stream",
     "text": [
      "81.8241912947\n"
     ]
    },
    {
     "data": {
      "image/png": "[encoded data removed]",
      "text/plain": [
       "<matplotlib.figure.Figure at 0xa81cfd0>"
      ]
     },
     "metadata": {},
     "output_type": "display_data"
    }
   ],
   "source": [
    "pd.DataFrame(data).plot()\n",
    "print db\n",
    "# pd.DataFrame(db).plot()"
   ]
  },
  {
   "cell_type": "code",
   "execution_count": null,
   "metadata": {
    "collapsed": false
   },
   "outputs": [
    {
     "name": "stdout",
     "output_type": "stream",
     "text": [
      "took 191.00 ms\n",
      "took 150.00 ms\n",
      "took 155.00 ms\n",
      "took 142.00 ms\n",
      "took 209.00 ms\n",
      "took 142.00 ms\n",
      "took 160.00 ms\n",
      "took 165.00 ms\n",
      "took 161.00 ms\n",
      "took 145.00 ms\n",
      "took 161.00 ms\n",
      "took 143.00 ms\n",
      "took 160.00 ms\n",
      "took 149.00 ms\n",
      "took 160.00 ms\n",
      "took 227.00 ms\n",
      "took 150.00 ms\n",
      "took 159.00 ms\n",
      "took 145.00 ms\n",
      "took 167.00 ms\n",
      "took 292.00 ms\n",
      "took 145.00 ms\n",
      "took 159.00 ms\n",
      "took 144.00 ms\n",
      "took 202.00 ms\n",
      "took 217.00 ms\n",
      "took 267.00 ms\n",
      "took 149.00 ms\n",
      "took 158.00 ms\n",
      "took 144.00 ms\n",
      "took 172.00 ms\n",
      "took 149.00 ms\n",
      "took 363.00 ms\n",
      "took 143.00 ms\n",
      "took 214.00 ms\n",
      "took 150.00 ms\n",
      "took 170.00 ms\n",
      "took 144.00 ms\n",
      "took 376.00 ms\n",
      "took 141.00 ms\n",
      "took 173.00 ms\n",
      "took 265.00 ms\n",
      "took 182.00 ms\n",
      "took 309.00 ms\n",
      "took 253.00 ms\n",
      "took 318.00 ms\n",
      "took 147.00 ms\n",
      "took 160.00 ms\n",
      "took 141.00 ms\n",
      "took 170.00 ms\n",
      "took 150.00 ms\n",
      "took 167.00 ms\n",
      "took 147.00 ms\n",
      "took 321.00 ms\n",
      "took 158.00 ms\n",
      "took 173.00 ms\n",
      "took 145.00 ms\n",
      "took 161.00 ms\n",
      "took 151.00 ms\n",
      "took 159.00 ms\n",
      "took 148.00 ms\n",
      "took 175.00 ms\n",
      "took 148.00 ms\n"
     ]
    },
    {
     "name": "stderr",
     "output_type": "stream",
     "text": [
      "C:\\Users\\Ryan\\Anaconda2\\lib\\site-packages\\matplotlib\\axis.py:1045: UserWarning: Unable to find pixel distance along axis for interval padding of ticks; assuming no interval padding needed.\n",
      "  warnings.warn(\"Unable to find pixel distance along axis \"\n"
     ]
    },
    {
     "name": "stdout",
     "output_type": "stream",
     "text": [
      "took 176.00 ms\n",
      "took 170.00 ms\n",
      "took 162.00 ms\n",
      "took 142.00 ms\n",
      "took 163.00 ms\n",
      "took 145.00 ms\n",
      "took 159.00 ms\n",
      "took 147.00 ms\n",
      "took 356.00 ms\n",
      "took 147.00 ms\n",
      "took 177.00 ms\n",
      "took 147.00 ms\n",
      "took 244.00 ms\n",
      "took 359.00 ms\n",
      "took 149.00 ms\n",
      "took 165.00 ms\n",
      "took 142.00 ms\n",
      "took 165.00 ms\n",
      "took 143.00 ms\n",
      "took 160.00 ms\n",
      "took 138.00 ms\n",
      "took 176.00 ms\n",
      "took 227.00 ms\n",
      "took 168.00 ms\n",
      "took 165.00 ms\n",
      "took 141.00 ms\n",
      "took 166.00 ms\n",
      "took 149.00 ms\n",
      "took 157.00 ms\n",
      "took 143.00 ms\n",
      "took 406.00 ms\n",
      "took 152.00 ms\n",
      "took 164.00 ms\n",
      "took 146.00 ms\n",
      "took 161.00 ms\n",
      "took 145.00 ms\n",
      "took 160.00 ms\n",
      "took 142.00 ms\n",
      "took 174.00 ms\n",
      "took 349.00 ms\n",
      "took 172.00 ms\n",
      "took 164.00 ms\n",
      "took 143.00 ms\n",
      "took 160.00 ms\n",
      "took 141.00 ms\n",
      "took 152.00 ms\n",
      "took 152.00 ms\n",
      "took 157.00 ms\n",
      "took 153.00 ms\n",
      "took 156.00 ms\n",
      "took 151.00 ms\n",
      "took 152.00 ms\n",
      "took 141.00 ms\n",
      "took 149.00 ms\n",
      "took 142.00 ms\n",
      "took 160.00 ms\n",
      "took 149.00 ms\n",
      "took 453.00 ms\n",
      "took 146.00 ms\n",
      "took 169.00 ms\n",
      "took 177.00 ms\n",
      "took 178.00 ms\n",
      "took 143.00 ms\n",
      "took 149.00 ms\n",
      "took 145.00 ms\n",
      "took 148.00 ms\n",
      "took 142.00 ms\n",
      "took 155.00 ms\n",
      "took 150.00 ms\n",
      "took 154.00 ms\n",
      "took 145.00 ms\n",
      "took 151.00 ms\n",
      "took 144.00 ms\n",
      "took 150.00 ms\n",
      "took 155.00 ms\n",
      "took 152.00 ms\n",
      "took 145.00 ms\n",
      "took 150.00 ms\n",
      "took 149.00 ms\n"
     ]
    }
   ],
   "source": [
    "import pyaudio\n",
    "import numpy as np\n",
    "import pylab\n",
    "import time\n",
    "\n",
    "RATE = 44100\n",
    "CHUNK = int(RATE/20) # RATE / number of updates per second\n",
    "\n",
    "def soundplot(stream):\n",
    "    t1=time.time()\n",
    "    data = np.fromstring(stream.read(CHUNK),dtype=np.int16)\n",
    "    pylab.plot(data)\n",
    "    pylab.title(i)\n",
    "    pylab.grid()\n",
    "    pylab.axis([0,len(data),-2**16/2,2**16/2])\n",
    "    pylab.savefig(\"03.png\",dpi=50)\n",
    "    pylab.close('all')\n",
    "    print(\"took %.02f ms\"%((time.time()-t1)*1000))\n",
    "\n",
    "if __name__==\"__main__\":\n",
    "    p=pyaudio.PyAudio()\n",
    "    stream=p.open(format=pyaudio.paInt16,channels=1,rate=RATE,input=True,\n",
    "                  frames_per_buffer=CHUNK)\n",
    "    for i in range(int(20*RATE/CHUNK)): #do this for 10 seconds\n",
    "        soundplot(stream)\n",
    "    stream.stop_stream()\n",
    "    stream.close()\n",
    "    p.terminate()"
   ]
  },
  {
   "cell_type": "code",
   "execution_count": 18,
   "metadata": {
    "collapsed": false
   },
   "outputs": [
    {
     "data": {
      "text/html": [
       "\n",
       "<html>\n",
       "<script language=\"javascript\">\n",
       "function RefreshImage(){\n",
       "document.pic0.src=\"03.png?a=\" + String(Math.random()*99999999);\n",
       "setTimeout('RefreshImage()',50);\n",
       "}\n",
       "</script>\n",
       "<body onload=\"RefreshImage()\">\n",
       "<img name=\"pic0\" src=\"03.png\">\n",
       "</body>\n",
       "</html>"
      ],
      "text/plain": [
       "<IPython.core.display.HTML object>"
      ]
     },
     "metadata": {},
     "output_type": "display_data"
    }
   ],
   "source": [
    "%%HTML\n",
    "\n",
    "<html>\n",
    "<script language=\"javascript\">\n",
    "function RefreshImage(){\n",
    "document.pic0.src=\"03.png?a=\" + String(Math.random()*99999999);\n",
    "setTimeout('RefreshImage()',50);\n",
    "}\n",
    "</script>\n",
    "<body onload=\"RefreshImage()\">\n",
    "<img name=\"pic0\" src=\"03.png\">\n",
    "</body>\n",
    "</html>"
   ]
  }
 ],
 "metadata": {
  "kernelspec": {
   "display_name": "Python 2",
   "language": "python",
   "name": "python2"
  },
  "language_info": {
   "codemirror_mode": {
    "name": "ipython",
    "version": 2
   },
   "file_extension": ".py",
   "mimetype": "text/x-python",
   "name": "python",
   "nbconvert_exporter": "python",
   "pygments_lexer": "ipython2",
   "version": "2.7.13"
  }
 },
 "nbformat": 4,
 "nbformat_minor": 2
}
